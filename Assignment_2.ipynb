{
 "cells": [
  {
   "cell_type": "markdown",
   "id": "a6a55e59",
   "metadata": {},
   "source": [
    "# Programming Assignment 2\n",
    "\n",
    "## Arrays"
   ]
  },
  {
   "cell_type": "markdown",
   "id": "14f0c24f",
   "metadata": {},
   "source": [
    "### The Assignment\n",
    "\n",
    "The Bashemin Parking Garage contains a single lane that can hold up to ten cars.  Arriving cars enter the garage at the rear and are parked in the empty space nearest to the front. Departing cars exit only from the front.  \n",
    "\n",
    "If a customer needs to pick up a car that is not nearest to the exit, then all cars blocking its path are moved out temporarily, the customer's car is driven out, and the other cars are restored in the order they were in originally.  Whenever a car departs, all cars behind it in the garage are moved up one space.\n",
    "\n",
    "Write a Java program to operate the garage. \n",
    "\n",
    "The program will read and process lines of input from a file until end-of-file. Each input line contains a license plate number and an operation (ARRIVE or DEPART), separated by spaces.  Cars arrive and depart in the order specified by the input.  Each input operation must be “echo printed” to an output file, along with an appropriate message showing the status of the operation.\n",
    "\n",
    "👉 When a car arrives, the message will include the license number and state whether the car is being parked or turned away because the garage is full.  If the garage is full, the car leaves without ever having entered the garage.\n",
    "\n",
    "👉 When a car departs, the message will include the license number and the number of times the car was moved.\n",
    "><span style=\"text-decoration:underline\">___The number of moves does not include the one where the car departs from the garage, or the number of times the car was moved within the garage. It is only the number of times it was moved out of the garage temporarily to allow a car behind it to depart.___</span>  \n",
    "\n",
    ">If a DEPART operation calls for a car that is not in the garage, the message should so state."
   ]
  },
  {
   "cell_type": "markdown",
   "id": "776bae4f",
   "metadata": {},
   "source": [
    "### Specifications\n",
    "\n",
    "1.\tCreate separate classes to implement a Car and a Garage\n",
    "\n",
    "2.\tThe Car class will have __private__ instance variables that store the license number and number of times the car has been moved, and any methods you discover to be necessary\n",
    "\n",
    "3.\tThe Garage class must use an array (not an ArrayList) of Car objects to implement the garage\n",
    "\n",
    "4.\tTo handle the arrival and departure of each car, your Garage class must implement separate methods _arrive()_ and _depart()_, each of which returns a String showing the result of the operation (see above).\n",
    "\n",
    "5.\tYour garage class may contain other methods should you find them necessary or advisable.\n",
    "\n",
    "6.\tAlso write a “test” class that reads the operations from the input file, echoes each to the output file, calls the appropriate Garage class method, and writes the String returned to the output file.\n",
    "\n",
    "7.\tAs stated in 4. and 6. above, all output is to be done in the test class.  None of the Garage or Car class methods do any output\n",
    "\n",
    "8.\tMake sure your classes adhere to the style and documentation standards discussed in class and in online notes \n"
   ]
  },
  {
   "cell_type": "markdown",
   "id": "47eb7b89",
   "metadata": {},
   "source": [
    "### Data File - garage.txt\n",
    "\n",
    "The data file can be found below. Running the last cell with ```SAVE_TO_FILE``` set to True will save the file. The data will always be displayed."
   ]
  },
  {
   "cell_type": "markdown",
   "id": "db8e996d",
   "metadata": {},
   "source": [
    "### Due Date\n",
    "\n",
    "Due Date:  Tuesday, February 13th"
   ]
  },
  {
   "cell_type": "markdown",
   "id": "7b00d228",
   "metadata": {},
   "source": [
    "### What To Upload To Moodle\n",
    "\n",
    "Upload a zip file containing your NetBeans project folder with the output file.  Make sure you zip the project folder itself, and not the individual .java files. No other kinds of compressed files will be accepted other than .zip.  See the “_Submitting Your Assignments_” document online"
   ]
  },
  {
   "cell_type": "markdown",
   "id": "20a9d0af",
   "metadata": {},
   "source": [
    ">__To receive credit for this assignment you must declare the garage array with an initial size of 10 and must not resize it! I.e. you must use a counter to keep track of the number of cars in the garage, as shown in classes PartiallyFilled.java and OrderedList.java.  No credit will be given if you use an array with size of 1 and then resize it by adding one more element for each arriving car.  This is grossly inefficient and simply not done in this quadrant of the galaxy. Counters are a fundamental concept of programming.  Use them.  Love them.__\n"
   ]
  },
  {
   "cell_type": "code",
   "execution_count": 44,
   "id": "d33abda3",
   "metadata": {},
   "outputs": [
    {
     "name": "stdout",
     "output_type": "stream",
     "text": [
      "JAV001 ARRIVE\n",
      "JAV002 ARRIVE\n",
      "JAV003 ARRIVE\n",
      "JAV004 ARRIVE\n",
      "JAV005 ARRIVE\n",
      "JAV001 DEPART\n",
      "JAV004 DEPART\n",
      "JAV006 ARRIVE\n",
      "JAV007 ARRIVE\n",
      "JAV008 ARRIVE\n",
      "JAV009 ARRIVE\n",
      "JAV010 ARRIVE\n",
      "JAV011 ARRIVE\n",
      "JAV012 ARRIVE\n",
      "JAV013 ARRIVE\n",
      "JAV014 ARRIVE\n",
      "JAV006 DEPART\n",
      "JAV014 DEPART\n",
      "JAV013 DEPART\n",
      "JAV005 DEPART\n",
      "JAV015 ARRIVE\n",
      "JAV010 DEPART\n",
      "JAV002 DEPART\n",
      "JAV015 DEPART\n",
      "JAV013 DEPART\n",
      "JAV009 DEPART\n",
      "JAV003 DEPART\n",
      "JAV008 DEPART\n",
      "JAV007 DEPART\n",
      "JAV012 DEPART\n",
      "JAV011 DEPART\n"
     ]
    }
   ],
   "source": [
    "# DO NOT CHANGE ANYTHING ON THIS CELL!!!  (Except for the variable SAVE_TO_FILE)\n",
    "\n",
    "SAVE_TO_FILE = True\n",
    "\n",
    "data = [\n",
    "    'JAV001 ARRIVE',\n",
    "    'JAV002 ARRIVE',\n",
    "    'JAV003 ARRIVE',\n",
    "    'JAV004 ARRIVE',\n",
    "    'JAV005 ARRIVE',\n",
    "    'JAV001 DEPART',\n",
    "    'JAV004 DEPART',\n",
    "    'JAV006 ARRIVE',\n",
    "    'JAV007 ARRIVE',\n",
    "    'JAV008 ARRIVE',\n",
    "    'JAV009 ARRIVE',\n",
    "    'JAV010 ARRIVE',\n",
    "    'JAV011 ARRIVE',\n",
    "    'JAV012 ARRIVE',\n",
    "    'JAV013 ARRIVE',\n",
    "    'JAV014 ARRIVE',\n",
    "    'JAV006 DEPART',\n",
    "    'JAV014 DEPART',\n",
    "    'JAV013 DEPART',\n",
    "    'JAV005 DEPART',\n",
    "    'JAV015 ARRIVE',\n",
    "    'JAV010 DEPART',\n",
    "    'JAV002 DEPART',\n",
    "    'JAV015 DEPART',\n",
    "    'JAV013 DEPART',\n",
    "    'JAV009 DEPART',\n",
    "    'JAV003 DEPART',\n",
    "    'JAV008 DEPART',\n",
    "    'JAV007 DEPART',\n",
    "    'JAV012 DEPART',\n",
    "    'JAV011 DEPART'\n",
    "]\n",
    "\n",
    "output = '\\n'.join(data)\n",
    "\n",
    "if SAVE_TO_FILE:\n",
    "    with open('garage.txt', 'w') as f:\n",
    "        f.write(output)\n",
    "print(output)"
   ]
  }
 ],
 "metadata": {
  "kernelspec": {
   "display_name": "Python 3 (ipykernel)",
   "language": "python",
   "name": "python3"
  },
  "language_info": {
   "codemirror_mode": {
    "name": "ipython",
    "version": 3
   },
   "file_extension": ".py",
   "mimetype": "text/x-python",
   "name": "python",
   "nbconvert_exporter": "python",
   "pygments_lexer": "ipython3",
   "version": "3.9.7"
  }
 },
 "nbformat": 4,
 "nbformat_minor": 5
}

{
 "cells": [
  {
   "cell_type": "markdown",
   "id": "a6a55e59",
   "metadata": {},
   "source": [
    "# Programming Assignment \n",
    "\n",
    "## A Generic Ordered List Class"
   ]
  },
  {
   "cell_type": "markdown",
   "id": "14f0c24f",
   "metadata": {},
   "source": [
    "### I.\tWrite a Java Class to Implement a Generic Ordered List\n",
    "\n",
    "An ordered list is one in which the objects on the list appear in order.  When a new object is added, it is inserted into the list in its proper position, so there is never a need to “sort” the list.  \n",
    "_Your list will be in ascending order initially._\n",
    "><span style=\"text-decoration:underline\">___To receive credit, your list must be implemented as a singly-linked list of generic nodes, where each node has two instance variables: an object of the “type variable” class, and a pointer to the next node on the list___</span>\n",
    ">\n",
    "><span style=\"text-decoration:underline\">___To receive credit, no data structures may be used other than your own OrderedList class___</span>\n",
    "\n",
    "Your class will have a proper constructor and these methods:\n",
    "\n",
    "1.\tan overridden ```toString``` method that returns the objects on the list in the order in which they appear or an appropriate message if the list is empty\n",
    "\n",
    "2.\tan ```insert``` method that inserts a new node containing its parameter in its proper place in the list\n",
    "\n",
    "3.\ta boolean ```delete``` method that searches the list for a node containing its parameter.  If found, the node is removed from the list and __true__ is returned; else, __false__ is returned\n",
    "\n",
    "4.\ta boolean ```isEmpty``` method\n",
    "\n",
    "5.\ta method to ```clear``` the list\n",
    "\n",
    "6.\ta method to ```reverse``` the order of the objects on the list. I.e. after the first reversal the list will be in descending order.  \n",
    "   To receive credit for this method, you must implement this algorithm:\n",
    ">Traversing the list sequentially, remove each node and insert it as the new first node. Do not merely “swap” the objects stored in the nodes or create any new nodes - remove each node from the list and reinsert it in its new position "
   ]
  },
  {
   "cell_type": "markdown",
   "id": "776bae4f",
   "metadata": {},
   "source": [
    "### Write a Test Class for Your Ordered List Class\n",
    "\n",
    "Your main method will read and execute list operation instructions from a data file, until end-of-file.  Each operation is to be implemented by calling a method of your list class.  \n",
    "><span style=\"text-decoration:underline\">___After each operation is executed, print the instruction and the updated list.  If an operation cannot be done or is unnecessary because the list is empty, say so___</span>\n",
    "\n",
    "The data file to be used is available on the last cell of this notebook and the instructions are:\n",
    "\n",
    "\n",
    "| FUNCTION | Description |\n",
    "|:---|:---|\n",
    "|INSERT X \t|Insert a new node with info x in its proper place in the list|\n",
    "|DELETE X\t|Remove the node that contains x from the list. (If x does not appear on the list, say so)|\n",
    "|CLEAR     |Clear the list |\n",
    "|REVERSE \t|Reverse the order of the objects on the list (using the algorithm specified above)|\n"
   ]
  },
  {
   "cell_type": "markdown",
   "id": "db8e996d",
   "metadata": {},
   "source": [
    "### Due Date\n",
    "\n",
    "Due Date: Tuesday, April 10th"
   ]
  },
  {
   "cell_type": "markdown",
   "id": "7b00d228",
   "metadata": {},
   "source": [
    "### What To Upload To Moodle\n",
    "\n",
    "Upload a .zip file containing you NetBeans project folder and the output"
   ]
  },
  {
   "cell_type": "markdown",
   "id": "9453089d",
   "metadata": {},
   "source": [
    "### Hopefully Helpful Hints\n",
    "\n",
    "* Because an ordered list involves comparisons, it will be necessary to constrain (i.e. “limit”) the type parameter to those classes that implement Java’s Comparable interface\n",
    ">See the “Generic Classes” document online\n",
    "* It is not necessary to create an _iterator_ for your class, although one is shown in our demo program, _MyLinkedList.java_\n",
    "* An iterator allows the user of a collection to access each object stored without having to know anything about how the collection is implemented.  For this assignment, the client doesn’t require that capabilit* \n",
    "* Begin by creating the skeleton of your ```OrderedList``` class, with just the method “stubs” (i.e. method declaration with an empty body and bogus return value if the method returns a value).  That way your program will compile and run and you can code the method bodies separately\n",
    "* To insert a new object in its proper place, we need to know whether the list is in ascending or descending order.  This cries out for a __boolean__ instance variable to so indicate. Design your insert method to call __private__ utility methods ```insertAscending``` or ```insertDescending``` to handle the insertion\n"
   ]
  },
  {
   "cell_type": "code",
   "execution_count": 3,
   "id": "70fc67df",
   "metadata": {},
   "outputs": [
    {
     "name": "stdout",
     "output_type": "stream",
     "text": [
      "INSERT 5\n",
      "INSERT 20\n",
      "INSERT 12\n",
      "INSERT 27\n",
      "DELETE 12\n",
      "INSERT 37\n",
      "DELETE 99\n",
      "INSERT 73\n",
      "DELETE 5\n",
      "DELETE 73\n",
      "INSERT 48\n",
      "REVERSE\n",
      "INSERT 99\n",
      "INSERT 23\n",
      "INSERT 11\n",
      "DELETE 99\n",
      "DELETE 11\n",
      "REVERSE\n",
      "CLEAR\n",
      "REVERSE\n",
      "DELETE 37\n"
     ]
    }
   ],
   "source": [
    "# DO NOT CHANGE ANYTHING ON THIS CELL!!!  (Except for the variable SAVE_TO_FILE)\n",
    "\n",
    "SAVE_TO_FILE = False\n",
    "\n",
    "data = [\n",
    "    'INSERT 5',\n",
    "    'INSERT 20',\n",
    "    'INSERT 12',\n",
    "    'INSERT 27',\n",
    "    'DELETE 12',\n",
    "    'INSERT 37',\n",
    "    'DELETE 99',\n",
    "    'INSERT 73',\n",
    "    'DELETE 5',\n",
    "    'DELETE 73',\n",
    "    'INSERT 48',\n",
    "    'REVERSE',\n",
    "    'INSERT 99',\n",
    "    'INSERT 23',\n",
    "    'INSERT 11',\n",
    "    'DELETE 99',\n",
    "    'DELETE 11',\n",
    "    'REVERSE',\n",
    "    'CLEAR',\n",
    "    'REVERSE',\n",
    "    'DELETE 37'\n",
    "]\n",
    "\n",
    "output = '\\n'.join(data)\n",
    "if SAVE_TO_FILE:\n",
    "    with open('ordlist.txt', 'w') as f:\n",
    "        f.write(output)\n",
    "        \n",
    "print(output)"
   ]
  }
 ],
 "metadata": {
  "kernelspec": {
   "display_name": "Python 3 (ipykernel)",
   "language": "python",
   "name": "python3"
  },
  "language_info": {
   "codemirror_mode": {
    "name": "ipython",
    "version": 3
   },
   "file_extension": ".py",
   "mimetype": "text/x-python",
   "name": "python",
   "nbconvert_exporter": "python",
   "pygments_lexer": "ipython3",
   "version": "3.9.7"
  }
 },
 "nbformat": 4,
 "nbformat_minor": 5
}

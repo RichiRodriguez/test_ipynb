{
 "cells": [
  {
   "cell_type": "markdown",
   "id": "a6a55e59",
   "metadata": {},
   "source": [
    "# Programming Assignment 5\n",
    "\n",
    "## Interfaces and Polymorphism"
   ]
  },
  {
   "cell_type": "markdown",
   "id": "14f0c24f",
   "metadata": {},
   "source": [
    "### Create a Point3D Class\n",
    "\n",
    "Create a class to represent a point in Three-Dimensional space.  This class will have __private__ int instance variables x, y, and z, to store the coordinates of the point, a constructor, an overridden ```toString()``` method to return the coordinates as a String, and “get” methods that return the values of each of the instance variables.\n"
   ]
  },
  {
   "cell_type": "markdown",
   "id": "776bae4f",
   "metadata": {},
   "source": [
    "### Define an Abstract Class to Represent a 3-D Shape\n",
    "\n",
    "Your __Shape__ class must meet these specifications:\n",
    "\n",
    "1. has a __private__ instance variable of class __Point3D__ (aka: a “member object”) that stores the center of the shape\n",
    "  >For maximum credit, this member object must be created in the Shape3D constructor. I.e., the implementation of the center must be “hidden” from the client code (the test class) and also from all subclasses \n",
    "2. overrides toString() to return a string containing the coordinates of the center (hint: call the toString() method of the __Point3D__ class) \n",
    "3. has a concrete method that computes and returns the distance of the center of the shape from the origin (i.e., point 0,0,0) \n",
    "4. has abstract methods that compute and return the surface area and the volume of a shape\n",
    " \n",
    "5. implements Java’s __Comparable__ interface so that __Shape__ objects are ordered by volume (ascending)\n"
   ]
  },
  {
   "cell_type": "markdown",
   "id": "3f8ac81d",
   "metadata": {},
   "source": [
    "### Derive Concrete Subclasses for Sphere, Parallelepiped, Cylinder, and Cone Shapes  \n",
    "\n",
    "1.\tThe constructor for each of these classes takes parameters for the x, y, and z coordinates of the center. In addition, the __Sphere__ constructor takes the radius, the __Parallelepiped__ constructor the length, width, and height, the __Cone__ constructor the height and radius, and the __Cylinder__ constructor the radius and height \n",
    "2.\tSince these are concrete classes, each must implement the methods that compute/return the surface area and the volume\n",
    "3.\tEach class will also override ```toString``` to return a string containing the class _name_, coordinates of the center, and the other data values (radius, length, width, etc.)\n"
   ]
  },
  {
   "cell_type": "markdown",
   "id": "ee94942f",
   "metadata": {},
   "source": [
    "### Write a Driver Class to Test Your Shape Hierarchy\n",
    "\n",
    "1.\tCreate one object of each concrete class – using the data given below - and store them in an array of __Shapes__.  The data can be “hardwired” into the code, no need for user input.\n",
    "\n",
    "2.\tUsing a loop, traverse the array and print the following information for each object – the actual class of the shape (Sphere, Cone, etc), all the input data, and the surface area and volume.\n",
    "\n",
    "3.\tSort the array in ascending order by volume.  This must be done via a call to a sort method of the __Arrays__ class.\n",
    "\n",
    "4.\tUsing a loop, print ONLY the class name and volume for each object in the sorted array.\n",
    "\n",
    "5.\tSort the array again, but this time in descending order by the distance from the origin.  This must be done via a call to a sort method of the __Arrays__ class. \n",
    "\n",
    "   >Hint: create a class that implements the __Comparator__ interface. Remember that when you implement the ```compare()``` method, you get to say what the “natural order” of the objects of your class is. \n",
    "\n",
    "6.\tUsing a loop, print ONLY the class name and distance from the origin for each object in the sorted array.\n",
    "\n"
   ]
  },
  {
   "cell_type": "markdown",
   "id": "d9b263df",
   "metadata": {},
   "source": [
    "### Test Data to be Used\n",
    "\n",
    "| Shape | Center | Shape Specific Info |\n",
    "|:------|:------:|:-------|\n",
    "|Sphere\t\t\t|Center at (2,-7,5), |radius of 15|\n",
    "|Parallelepiped\t|Center at (7,3,9),  |length 37, width 9, height 12|\n",
    "|Cylinder\t\t|\t Center at (3,-5,5), |radius 13, height 10|\n",
    "|Cone\t\t\t|\t Center at (-5,3,-1),| radius 14, height 11|\n"
   ]
  },
  {
   "cell_type": "markdown",
   "id": "674b3fab",
   "metadata": {},
   "source": [
    "### Formulas\n",
    "\n",
    "The distance of a point in 3D space from point (0,0,0) is the hypotenuse of a right triangle where the adjacent sides have lengths of \n",
    "$z$, and $\\sqrt{(x^2 + y^2)}$\n",
    "\n",
    "|Shape | Area | Volume|\n",
    "|--- | --- | ---|\n",
    "| Sphere | $$4 \\pi r^2$$ |  $$\\frac{4}{3} \\pi r^3$$ |\n",
    "| Cylinder | $$ 2 \\pi r^2 + 2 \\pi r h $$ | $$\\pi  r^2 h$$ |\n",
    "| Cone | $$\\frac{\\pi r^2 h}{3}$$ | $$\\pi r(r+s)$$|\n",
    "\n",
    "Where $s$ (the slant height) is\n",
    "$$\\sqrt{r^2 + h^2}$$\n",
    "\n",
    "Parallelepiped: It’s a box, like a cereal box.  Figure it out."
   ]
  },
  {
   "cell_type": "markdown",
   "id": "db8e996d",
   "metadata": {},
   "source": [
    "### Due Date\n",
    "\n",
    "Due Date:  Tuesday, March 27th"
   ]
  },
  {
   "cell_type": "markdown",
   "id": "7b00d228",
   "metadata": {},
   "source": [
    "### What To Upload To Moodle\n",
    "\n",
    "Upload a zip file containing your project folder and output \n",
    "\n",
    "No need to generate the .html “help” pages, but make sure your classes are properly documented – both internal documentation and Java “documentation comments” – and adhere to all the style considerations discussed in class "
   ]
  }
 ],
 "metadata": {
  "kernelspec": {
   "display_name": "Python 3 (ipykernel)",
   "language": "python",
   "name": "python3"
  },
  "language_info": {
   "codemirror_mode": {
    "name": "ipython",
    "version": 3
   },
   "file_extension": ".py",
   "mimetype": "text/x-python",
   "name": "python",
   "nbconvert_exporter": "python",
   "pygments_lexer": "ipython3",
   "version": "3.9.7"
  }
 },
 "nbformat": 4,
 "nbformat_minor": 5
}

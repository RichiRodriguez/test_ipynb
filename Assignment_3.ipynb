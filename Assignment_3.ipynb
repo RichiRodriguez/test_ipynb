{
 "cells": [
  {
   "cell_type": "markdown",
   "id": "a6a55e59",
   "metadata": {},
   "source": [
    "# Programming Assignment 3\n",
    "\n",
    "## Pascal's Triangle"
   ]
  },
  {
   "cell_type": "markdown",
   "id": "14f0c24f",
   "metadata": {},
   "source": [
    "### Definition\n",
    "\n",
    ">  In mathematics, __Pascal's triangle__ is a triangular array of the binomial coefficients. In much of the Western world, it is named after French mathematician Blaise Pascal, although other mathematicians studied it centuries before him in India, Persia, China, Germany, and Italy.\n",
    "The rows of Pascal's triangle are conventionally enumerated starting with row $n = 0$ at the top (the 0th row). The entries in each row are numbered from the left beginning with $k = 0$ and are usually staggered relative to the numbers in the adjacent rows. The triangle may be constructed in the following manner: In row 0 (the topmost row), there is a unique nonzero entry 1. Each entry of each subsequent row is constructed by adding the number above and to the left with the number above and to the right, treating blank entries as 0. For example, the initial number in the first (or any other) row is 1 (the sum of 0 and 1), whereas the numbers 1 and 3 in the third row are added to produce the number 4 in the fourth row.  \n",
    "\n",
    "Wikipedia\n",
    "\n",
    "Here is Pascal's Triangle of 12 rows:\n",
    "\n",
    "                                       1\n",
    "                                    1     1\n",
    "                                 1     2     1\n",
    "                              1     3     3     1\n",
    "                           1     4     6     4     1\n",
    "                        1     5    10    10     5     1\n",
    "                     1     6    15    20    15     6     1\n",
    "                  1     7    21    35    35    21     7     1\n",
    "               1     8    28    56    70    56    28     8     1\n",
    "            1     9    36    84   126   126    84    36     9     1\n",
    "         1    10    45   120   210   252   210   120    45    10     1\n",
    "      1    11    55   165   330   462   462   330   165    55    11     1\n",
    "\n",
    "For more information, including uses of Pascal’s Triangle and an awesome animation: [Pascal Triangle](https://en.wikipedia.org/wiki/Pascal%27s_triangle)."
   ]
  },
  {
   "cell_type": "markdown",
   "id": "776bae4f",
   "metadata": {},
   "source": [
    "### The ```PascalsTriangle``` Class - Specifications\n",
    "\n",
    "Create a class that will create a PascalsTriangle with a given number of rows.  \n",
    "<span style=\"text-decoration:underline\">___To receive credit for this assignment, your class must use a 2D array of int as its principal data structure.___</span>  \n",
    "Your PascalsTriangle class will have a constructor with one parameter – the number of rows – and these additional methods:\n",
    "\n",
    "1. A method that creates the PascalsTriangle (i.e. populates the array).  This should be a private method, called by the class constructor\n",
    "\n",
    "2. A ```toString()``` method that returns the PascalsTriangle as a multi-line String, meticulously formatted as shown above \n",
    "\n"
   ]
  },
  {
   "cell_type": "markdown",
   "id": "3f8ac81d",
   "metadata": {},
   "source": [
    "### The ```Test``` Class - Specifications\n",
    "\n",
    "Write a test class with a ```main()``` method that does the following:\n",
    "\n",
    "1. Get the number of rows from the user\n",
    "2. Create the PascalsTriangle object\n",
    "2. Call toString() and print the String returned\n",
    "\n",
    "Use a loop to coerce the user to enter a valid number of rows - from 1 to 13, inclusive, - as a String. \n",
    "\n",
    ">If the String entered is not a valid int, print an error message and make the user try again. Otherwise, convert to int and check whether it is between 1 and 13, inclusive.  If so, create the PascalsTriangle and print the triangle returned by toString().  Otherwise, print an error message and have the user try again.  Your code must allow the user any number of attempts to enter a valid number\n",
    "\n",
    ">__Hints__: \n",
    ">   * use a __boolean__ variable to control the number of iterations \n",
    ">   * review Scanner class method hasNextInt\n",
    ">   * to convert a String to __int__, use Integer.parseInt(input)\n",
    "\n",
    ">Design your ```main()``` method to enable the user to create any number of PascalsTriangles in each run"
   ]
  },
  {
   "cell_type": "markdown",
   "id": "db8e996d",
   "metadata": {},
   "source": [
    "### Due Date\n",
    "\n",
    "Due date:  Thursday, February 22nd"
   ]
  },
  {
   "cell_type": "markdown",
   "id": "7b00d228",
   "metadata": {},
   "source": [
    "### What To Upload To Moodle\n",
    "\n",
    "Upload a zip file containing your NetBeans project folder and two sets of output.  Make sure you zip the project folder itself, and not the individual .java files. No other kinds of compressed files will be accepted other than .zip.  See the “Submitting Your Assignments” document online to make sure you don’t lose credit for not following directions.\n",
    "\n",
    "No need to generate the .html file, but make sure your class adheres to the style and documentation (both Javadoc and internal) standards discussed in class and in online notes \n"
   ]
  }
 ],
 "metadata": {
  "kernelspec": {
   "display_name": "Python 3 (ipykernel)",
   "language": "python",
   "name": "python3"
  },
  "language_info": {
   "codemirror_mode": {
    "name": "ipython",
    "version": 3
   },
   "file_extension": ".py",
   "mimetype": "text/x-python",
   "name": "python",
   "nbconvert_exporter": "python",
   "pygments_lexer": "ipython3",
   "version": "3.9.7"
  }
 },
 "nbformat": 4,
 "nbformat_minor": 5
}

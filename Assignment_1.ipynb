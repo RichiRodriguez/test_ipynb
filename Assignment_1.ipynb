{
 "cells": [
  {
   "cell_type": "markdown",
   "id": "71072486",
   "metadata": {},
   "source": [
    "# Programming Assignment 1\n",
    "\n",
    "## Polynomials - Using The ArrayList Class"
   ]
  },
  {
   "cell_type": "markdown",
   "id": "c4d44571",
   "metadata": {},
   "source": [
    "### The Term Class  \n",
    "Create a class to represent a term in an algebraic expression. As defined here, a term consists of the variable x, an integer coefficient, and a nonnegative integer exponent.  E.g.\n",
    "\n",
    "* in the term $4x^2$, the coefficient is 4 and the exponent 2\n",
    "* in $-6x^8$, the coefficient is -6 and the exponent 8\n",
    "\n",
    "Your class will have a constructor that creates a Term object with a coefficient and exponent passed as parameters, and accessor methods that return the coefficient and the exponent, respectively. Your class will also override ```toString``` to return a Term in this general form:  \n",
    "> ax^b\twhere a is the coefficient and b the exponent \n",
    "\n",
    "with these special cases:\n",
    "\n",
    "| Case     |Returns|\n",
    "|:--------:|:-----:|\n",
    "| a=1      | x^b   |\n",
    "| b=1      | ax    |\n",
    "| b=0      | a     |\n",
    "| a=1, b=1 | x     |\n",
    "\n",
    "You may assume that the coefficient will not be zero."
   ]
  },
  {
   "cell_type": "markdown",
   "id": "be179170",
   "metadata": {},
   "source": [
    "### The Polynomial Class\n",
    "\n",
    "A ___skeleton___ of the Polynomial class you are to use is on the class web site.  All you have to do is write the bodies of the methods.\n",
    "\n",
    "👉 __To get credit for this assignment, your Polynomial class must use an ArrayList-of-Term as its principal data structure__ \n",
    "\n",
    "👉 __To get credit, you must not declare any additional instance variables or methods and must not modify any of the method declarations in any way (not necessary).__\n",
    "\n",
    "As defined here, a polynomial is a sequence of terms.\n",
    "\n",
    "Example:\n",
    "1.  3x^2  +  4x^4  +  x6\n",
    "2.  2  +  5x^2  +  6x^3  +  2x^7\n",
    "3.  4x^10 \n",
    "\n",
    "The terms of polynomial 1 are (3,2), (4,4) and (1,6).  \n",
    "The terms of polynomial 2 are (2,0), (5,2), (6,3) and (2,7).  \n",
    "The terms of polynomial 3 are  (4,10).  \n",
    "\n",
    "Note that the Polynomial class has:\n",
    "* A constructor that creates an empty Polynomial (a Polynomial with 0 terms)\n",
    "\n",
    "* A method with signature  \n",
    "  ```java\n",
    "  public void addTerm(int coefficient, int exponent)\n",
    "  ```  \n",
    "  which creates a Term and places it in its proper position in the Polynomial  \n",
    "  \n",
    "  \n",
    "   👉 __The terms of the Polynomial are stored in ascending order by exponent (see above) so you never have to “sort” the list.  Terms with the same exponent may be stored in any order but will appear after all terms with lesser exponents and before all terms with greater exponents__  \n",
    "   \n",
    "* A method with signature  \n",
    "  ```java\n",
    "  public Polynomial polyAdd(Polynomial p)\n",
    "  ```  \n",
    "  which adds Polynomial _p_ to __this__ Polynomial and returns the sum  \n",
    "  \n",
    "* A method with signature  \n",
    "  ```java\n",
    "  public Polynomial polyMultiply(Polynomial p)\n",
    "  ```\n",
    "  which multiplies __this__ Polynomial by _p_ and returns the product  \n",
    "  \n",
    "* An overridden ```toString``` method that returns a String representation of a polynomial as a sum of terms. For example, polynomial 1 above would have this String representation:  \n",
    "      3x^2 + 4x^4 + x^6\n",
    "\n",
    "* A private method with signature  \n",
    "  ```java\n",
    "  private void collectTerms()\n",
    "  ```\n",
    "  which “collects” like terms of __this__ Polynomial. For example:  \n",
    "\t  Before:\tx^2 + 3x^2 + 2x^2 + 3x^3 + 5x^4 + 2x^4  \n",
    "\t  After: \t6x^2 + 3x^3 + 7x^4  \n",
    "  👉 Polynomials must always be printed with terms collected  \n",
    "  \n",
    "\n"
   ]
  },
  {
   "cell_type": "markdown",
   "id": "bf306606",
   "metadata": {},
   "source": [
    "### The Test Class\n",
    "\n",
    "Test class ```PolynomialTester.java``` is available online.  Make no changes to the test class."
   ]
  },
  {
   "cell_type": "markdown",
   "id": "efa76983",
   "metadata": {},
   "source": [
    "### Javadoc Comments\n",
    "\n",
    "Make sure you properly document the Polynomial and Term classes and all public methods, including all parameters, and all return statements.  Then run the javadoc utility to generate the “help” pages (Polynomial.html and Term.html). \n",
    "\n",
    "  👉 For this assignment, the Javadoc comments and html files will count as a separate grade!\n"
   ]
  },
  {
   "cell_type": "markdown",
   "id": "e2d540cc",
   "metadata": {},
   "source": [
    "### What To Upload To Moodle\n",
    "\n",
    "Upload a zip file containing your NetBeans project folder and the output  \n",
    "\n",
    "  👉 See the “Submitting Your Assignments” document online\n"
   ]
  },
  {
   "cell_type": "markdown",
   "id": "ea29589f",
   "metadata": {},
   "source": [
    "### Due Date\n",
    "\n",
    "Due Date – Tuesday, January 30th"
   ]
  },
  {
   "cell_type": "markdown",
   "id": "4a858771",
   "metadata": {},
   "source": [
    "### Helpful Hints! Divide And Conquer!\n",
    "\n",
    "1.\tBegin by coding the Term class and the Polynomial methods addTerm and toString. For now, have addTerm simply add each new Term at the end of the list.  This will enable you to run the program and verify that your Term class is correct and that new Terms are indeed being added to the list. \n",
    "\n",
    "2.\tCode the polyAdd and polyMultiply methods. These are fairly straightforward and once completed, along with the temporary version of addTerm, you will have a majority of the credit in the bank. \n",
    "\n",
    "3.\tAfter doing the above, modify the addTerm method so that each new Term is inserted in its proper place in the list. An algorithm will be discussed in class. Note that none of the other methods will need to be modified in any way. More credit in the bank.\n",
    "\n",
    "4.\tLastly, code the collectTerms method.  An algorithm will be discussed in class.\n"
   ]
  },
  {
   "cell_type": "markdown",
   "id": "a66bb7b0",
   "metadata": {},
   "source": [
    "### Other Considerations\n",
    "\n",
    "Also make sure your classes contain proper internal documentation and meet all the style considerations discussed in class and online in Unit 1."
   ]
  }
 ],
 "metadata": {
  "kernelspec": {
   "display_name": "Python 3 (ipykernel)",
   "language": "python",
   "name": "python3"
  },
  "language_info": {
   "codemirror_mode": {
    "name": "ipython",
    "version": 3
   },
   "file_extension": ".py",
   "mimetype": "text/x-python",
   "name": "python",
   "nbconvert_exporter": "python",
   "pygments_lexer": "ipython3",
   "version": "3.9.7"
  }
 },
 "nbformat": 4,
 "nbformat_minor": 5
}

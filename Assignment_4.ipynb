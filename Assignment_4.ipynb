{
 "cells": [
  {
   "cell_type": "markdown",
   "id": "a6a55e59",
   "metadata": {},
   "source": [
    "# Programming Assignment 4\n",
    "\n",
    "## Interfaces and Polymorphism\n",
    "\n",
    "Had the Roman Empire never fallen, today we might be using Roman numerals instead of the familiar Arabic ones (0..9).  Naturally, there would be a great demand for Roman-Numeral-based calculators.  This assignment is to design and implement object-oriented software for such a calculator.  The calculator must be able to perform multiplication, division, modulus, addition, and subtraction operations on “roman number” operands, where a roman number is a valid sequence of Roman Numerals.  Make sure you follow all the directions below, explicitly."
   ]
  },
  {
   "cell_type": "markdown",
   "id": "14f0c24f",
   "metadata": {},
   "source": [
    "### Roman Numerals\n",
    "\n",
    "A numeral is a symbol that represents a number.  Each letter used in Roman Numerals stands for a different number:\n",
    "\n",
    "|Roman Numeral|\tNumber|\n",
    "|:---:|:---:|\n",
    "|I |\t1 |\n",
    "|V |\t5 |\n",
    "|X |\t10|\n",
    "|L |\t50|\n",
    "|C |\t100|\n",
    "|D |\t500|\n",
    "|M |\t1000|\n",
    "\n",
    "A string of numerals means that their values should be added together.  Example:\n",
    "\n",
    "    XXX = 10 + 10 + 10 = 30, and LXI = 50 + 10 + 1 = 61\n",
    "\n",
    "If a smaller value is placed before a larger one, we subtract instead of adding. Example:\n",
    "\n",
    "    IV = 5 - 1 = 4\n",
    "\n",
    "Use these rules to convert a number from Roman numerals to Arabic numerals, converting one numeral at a time, left-to-right. \n",
    "\n",
    "FYI, here are the official rules for subtracting letters:\n",
    "\n",
    "* Subtract only powers of ten, such as __I__, __X__, or __C__. Writing __VL__ for __45__ is not allowed: write __XLV__ instead. \n",
    "* Subtract only a single letter from a single numeral. Write __VII___ for __8__, not __IIX__; __19__ is __XIX__, not __IXX__. \n",
    "* Don't subtract a letter from another letter more than ten times greater. This means that you can only subtract __I__ from __V__ or __X__, and __X__ from __L__ or __C__, so for example __1999__ is __MCMXCIX__, and not __MIM__.\n",
    "\n",
    "Use these additional rules to convert an Arabic number to Roman numerals, again converting one digit at a time. Example:\n",
    "\n",
    "             982 = 900 + 80 + 2 \n",
    "\t\t\t 982 = CM + LXXX + II \n",
    "\t\t\t 982 = CMLXXXII \n"
   ]
  },
  {
   "cell_type": "markdown",
   "id": "776bae4f",
   "metadata": {},
   "source": [
    "### II.\tThe ```RomanNumeral``` Interface\n",
    "\n",
    "Begin by creating a Java interface to represent a Roman Numeral.  Your interface will specify two methods – one to return the value of a Roman Numeral and another that returns a String representation of a numeral"
   ]
  },
  {
   "cell_type": "markdown",
   "id": "3f8ac81d",
   "metadata": {},
   "source": [
    "### The ```I```, ```V```, ```X```, ```L```, ```C```, ```D```, and ```M``` Classes\n",
    "\n",
    "Create a class for each of the above numerals.  These classes must all implement your ```RomanNumeral``` interface."
   ]
  },
  {
   "cell_type": "markdown",
   "id": "ee94942f",
   "metadata": {},
   "source": [
    "### The ```RomanNumber``` Class\n",
    "\n",
    "Create a class to model a RomanNumber, which is a valid series of Roman numerals. \n",
    "\n",
    ">You may implement the RomanNumber as either an array-of-RomanNumerals or an arraylist-of-RomanNumerals, your choice.  Either one. If you choose an array, assume a maximum size of 20 \n",
    "\n",
    "Your class will have these methods:\n",
    "1.\tA constructor\n",
    "2.\tA method that adds a RomanNumeral to this RomanNumber (optional)\n",
    "3.\tA method that converts a Roman Number to Arabic and returns it as an int\n",
    "4.\tA method that converts an Arabic Number to Roman and returns it as a String\n",
    "5.\tAn overridden ```toString()``` method that returns a string representation of a Roman Number\n"
   ]
  },
  {
   "cell_type": "markdown",
   "id": "d9b263df",
   "metadata": {},
   "source": [
    "### The ```RomanNumeralCalculator``` Class\n",
    "\n",
    "This class has a default constructor, and a compute method that performs an arithmetic operation (*, /, %, +, -) on two Roman Numbers and returns the result as a String in this general form:\n",
    "\n",
    "    XCIII – XXXIX = LIV \n",
    "      93  –   39  = 54\n",
    "\n",
    ">Make sure your calculator class depends on the RomanNumber class only and not on any of the individual RomanNumeral classes \n",
    "\n",
    ">If you are doing this right, your calculator class should not have to be modified in any way if new Roman Numerals were to be invented in the future (e.g., maybe a symbol for 5000 or 10000). That is main benefit of using Java interfaces and precisely why they were invented.  \n"
   ]
  },
  {
   "cell_type": "markdown",
   "id": "674b3fab",
   "metadata": {},
   "source": [
    "### The ```Test``` Class\n",
    "\n",
    "Your test class will read and process arithmetic operations from a data file which I will supply.  Each operation will have the left-hand Roman Number operand, an operator, and the right-hand Roman Number operand (separated by spaces)\n",
    "\n",
    "Example:  \n",
    "\n",
    "        XCIII – XXXIX\n"
   ]
  },
  {
   "cell_type": "markdown",
   "id": "db8e996d",
   "metadata": {},
   "source": [
    "### Due Date\n",
    "\n",
    "Due date:  Thursday, February 22nd"
   ]
  },
  {
   "cell_type": "markdown",
   "id": "7b00d228",
   "metadata": {},
   "source": [
    "### What To Upload To Moodle\n",
    "\n",
    "Upload a zip file containing your NetBeans project folder and two sets of output.  Make sure you zip the project folder itself, and not the individual .java files. No other kinds of compressed files will be accepted other than .zip.  See the “Submitting Your Assignments” document online to make sure you don’t lose credit for not following directions.\n",
    "\n",
    "No need to generate the .html file, but make sure your class adheres to the style and documentation (both Javadoc and internal) standards discussed in class and in online notes \n"
   ]
  },
  {
   "cell_type": "code",
   "execution_count": 116,
   "id": "e241922f",
   "metadata": {
    "scrolled": true
   },
   "outputs": [
    {
     "name": "stdout",
     "output_type": "stream",
     "text": [
      "XLIII + XXXIX\n",
      "XLIII - XXXIX\n",
      "XLIII * XXXIX\n",
      "XLIII / XXXIX\n",
      "XLIII % XXXIX\n",
      "XXXIX % XLIII\n",
      "MMMCMXCIX - MCMLXIV\n",
      "LXIX - LXXVII\n",
      "I - X\n",
      "MDCCLXXVI + CC\n",
      "MCDXCII * III\n"
     ]
    }
   ],
   "source": [
    "# DO NOT CHANGE ANYTHING ON THIS CELL!!!  (Except for the variable SAVE_TO_FILE)\n",
    "\n",
    "SAVE_TO_FILE = False\n",
    "\n",
    "data = [\n",
    "'XLIII + XXXIX',\n",
    "'XLIII - XXXIX',\n",
    "'XLIII * XXXIX',\n",
    "'XLIII / XXXIX',\n",
    "'XLIII % XXXIX',\n",
    "'XXXIX % XLIII',\n",
    "'MMMCMXCIX - MCMLXIV',\n",
    "'LXIX - LXXVII',\n",
    "'I - X',\n",
    "'MDCCLXXVI + CC',\n",
    "'MCDXCII * III']\n",
    "\n",
    "output = '\\n'.join(data)\n",
    "if SAVE_TO_FILE:\n",
    "    with open('roman.txt', 'w') as f:\n",
    "        f.write(output)\n",
    "        \n",
    "print(output)"
   ]
  },
  {
   "cell_type": "code",
   "execution_count": null,
   "id": "261fa3ae",
   "metadata": {},
   "outputs": [],
   "source": []
  }
 ],
 "metadata": {
  "kernelspec": {
   "display_name": "Python 3 (ipykernel)",
   "language": "python",
   "name": "python3"
  },
  "language_info": {
   "codemirror_mode": {
    "name": "ipython",
    "version": 3
   },
   "file_extension": ".py",
   "mimetype": "text/x-python",
   "name": "python",
   "nbconvert_exporter": "python",
   "pygments_lexer": "ipython3",
   "version": "3.9.7"
  }
 },
 "nbformat": 4,
 "nbformat_minor": 5
}
